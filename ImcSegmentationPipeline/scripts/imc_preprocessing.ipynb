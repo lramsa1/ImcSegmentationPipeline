{
 "cells": [
  {
   "cell_type": "code",
   "execution_count": 14,
   "id": "6df251db",
   "metadata": {},
   "outputs": [
    {
     "name": "stdout",
     "output_type": "stream",
     "text": [
      "Obtaining file:///Users/leeannramsay/GITHUB/MIMIC_CyTOF/ImcSegmentationPipeline\n",
      "  Installing build dependencies ... \u001b[?25ldone\n",
      "\u001b[?25h  Checking if build backend supports build_editable ... \u001b[?25ldone\n",
      "\u001b[?25h  Getting requirements to build editable ... \u001b[?25ldone\n",
      "\u001b[?25h  Preparing editable metadata (pyproject.toml) ... \u001b[?25ldone\n",
      "\u001b[?25hRequirement already satisfied: pandas in /Users/leeannramsay/opt/anaconda3/envs/imcsegpipe/lib/python3.9/site-packages (from imcsegpipe==1.0.0) (1.5.0)\n",
      "Requirement already satisfied: scipy in /Users/leeannramsay/opt/anaconda3/envs/imcsegpipe/lib/python3.9/site-packages (from imcsegpipe==1.0.0) (1.9.1)\n",
      "Requirement already satisfied: imageio in /Users/leeannramsay/opt/anaconda3/envs/imcsegpipe/lib/python3.9/site-packages (from imcsegpipe==1.0.0) (2.22.1)\n",
      "Requirement already satisfied: numpy in /Users/leeannramsay/opt/anaconda3/envs/imcsegpipe/lib/python3.9/site-packages (from imcsegpipe==1.0.0) (1.23.3)\n",
      "Requirement already satisfied: tifffile in /Users/leeannramsay/opt/anaconda3/envs/imcsegpipe/lib/python3.9/site-packages (from imcsegpipe==1.0.0) (2022.8.12)\n",
      "Requirement already satisfied: readimc in /Users/leeannramsay/opt/anaconda3/envs/imcsegpipe/lib/python3.9/site-packages (from imcsegpipe==1.0.0) (0.6.1)\n",
      "Requirement already satisfied: xtiff>=0.7.8 in /Users/leeannramsay/opt/anaconda3/envs/imcsegpipe/lib/python3.9/site-packages (from imcsegpipe==1.0.0) (0.7.8)\n",
      "Requirement already satisfied: pillow>=8.3.2 in /Users/leeannramsay/opt/anaconda3/envs/imcsegpipe/lib/python3.9/site-packages (from imageio->imcsegpipe==1.0.0) (9.2.0)\n",
      "Requirement already satisfied: python-dateutil>=2.8.1 in /Users/leeannramsay/opt/anaconda3/envs/imcsegpipe/lib/python3.9/site-packages (from pandas->imcsegpipe==1.0.0) (2.8.2)\n",
      "Requirement already satisfied: pytz>=2020.1 in /Users/leeannramsay/opt/anaconda3/envs/imcsegpipe/lib/python3.9/site-packages (from pandas->imcsegpipe==1.0.0) (2022.4)\n",
      "Requirement already satisfied: six>=1.5 in /Users/leeannramsay/opt/anaconda3/envs/imcsegpipe/lib/python3.9/site-packages (from python-dateutil>=2.8.1->pandas->imcsegpipe==1.0.0) (1.16.0)\n",
      "Building wheels for collected packages: imcsegpipe\n",
      "  Building editable for imcsegpipe (pyproject.toml) ... \u001b[?25ldone\n",
      "\u001b[?25h  Created wheel for imcsegpipe: filename=imcsegpipe-1.0.0-0.editable-py3-none-any.whl size=2337 sha256=f957716b20d832b39184f91d4d5dd2b3830ca62abd946403c8d19954a0567d1b\n",
      "  Stored in directory: /private/var/folders/xb/bkz_phtn3slgk81rysncprtw0000gn/T/pip-ephem-wheel-cache-3fzvn835/wheels/4f/6e/b4/c62a0eaf0a3f2ea5f5789a3474e3a178e13758180b64cdcfd8\n",
      "Successfully built imcsegpipe\n",
      "Installing collected packages: imcsegpipe\n",
      "  Attempting uninstall: imcsegpipe\n",
      "    Found existing installation: imcsegpipe 1.0.0\n",
      "    Uninstalling imcsegpipe-1.0.0:\n",
      "      Successfully uninstalled imcsegpipe-1.0.0\n",
      "Successfully installed imcsegpipe-1.0.0\n"
     ]
    }
   ],
   "source": [
    "import sys\n",
    "\n",
    "from pathlib import Path\n",
    "\n",
    "!{sys.executable} -m pip install -e {Path.cwd().parent}"
   ]
  },
  {
   "cell_type": "code",
   "execution_count": 7,
   "id": "b9764698-f518-4bab-844e-60cf17e3db53",
   "metadata": {},
   "outputs": [
    {
     "data": {
      "text/plain": [
       "PosixPath('/Users/leeannramsay/GITHUB/MIMIC_CyTOF/ImcSegmentationPipeline/scripts')"
      ]
     },
     "execution_count": 7,
     "metadata": {},
     "output_type": "execute_result"
    }
   ],
   "source": [
    "Path.cwd()"
   ]
  },
  {
   "cell_type": "code",
   "execution_count": 22,
   "id": "70edc343",
   "metadata": {},
   "outputs": [],
   "source": [
    "import re\n",
    "import os\n",
    "\n",
    "import shutil\n",
    "from pathlib import Path\n",
    "from tempfile import TemporaryDirectory\n",
    "from typing import List\n",
    "\n",
    "import pandas as pd\n",
    "\n",
    "sys.path.append(\"../src/\")\n",
    "import imcsegpipe\n",
    "from imcsegpipe.utils import sort_channels_by_mass"
   ]
  },
  {
   "cell_type": "markdown",
   "id": "2d7e5475",
   "metadata": {},
   "source": [
    "\n",
    "# Preprocessing of IMC data for image segmentation\n"
   ]
  },
  {
   "cell_type": "markdown",
   "id": "52e09020",
   "metadata": {},
   "source": [
    "This script presents the first step of the IMC segmentation pipeline.\n",
    " \n",
    "To get started, please refer to the [Get started guide](https://bodenmillergroup.github.io/ImcSegmentationPipeline/) and to download example data you can run the script `scripts/download_examples.ipynb`.\n",
    " \n",
    "**Requirements for the input data:**\n",
    " \n",
    "We recommend to supply the raw data in form of **one zip archive per acquisition session**.\n",
    "This zip archive should contain the `.mcd` file and all `.txt` files corresponding to individual acquisitions.\n",
    " \n",
    "To understand the output format, please refer to the [Output](https://bodenmillergroup.github.io/ImcSegmentationPipeline/output.html) documentation.\n",
    " \n",
    "Please raise an issue [here](https://github.com/BodenmillerGroup/ImcSegmentationPipeline/issues) for feedback, bug fixes and feature requests."
   ]
  },
  {
   "cell_type": "markdown",
   "id": "46bc907c",
   "metadata": {},
   "source": [
    "## Specify the inputs\n",
    "\n",
    "Here, you will need to specify where the IMC raw data (in form of `.zip` archives) are stored.\n",
    "The `raw_dirs` variable describes the path (one or multiple) where the `.zip` archives are located.\n",
    "Here, we use the example data (located in the `raw` folder) to run the pre-processing part of the pipeline.\n",
    "The `file_regex` variable specifies a [glob](https://towardsdatascience.com/the-python-glob-module-47d82f4cbd2d) entry to select all files of interest from the input directory.\n",
    "As an example: if you want to select all files that contain the word \"Patient\", you would use the glob expression `\"*Patient*.zip\"`.\n",
    " \n",
    "You will also need to specify the location of the panel file (`panel_file`) that contains information regarding the column that contains the metal/channel name (`panel_channel_col`), the column that contains an identifier if the channel should be used for ilastik training (`panel_ilastik_col`), and the column that contains an identifier if the channel should be used to generate the final stack of channels (`panel_keep_col`). The latter two arguments specify columns which contain 0s or 1s, 1 meaning the indicated channel is used and 0 meaning the channel is not used."
   ]
  },
  {
   "cell_type": "code",
   "execution_count": 31,
   "id": "59626637",
   "metadata": {},
   "outputs": [],
   "source": [
    "# the paths with the ziped acquisition files\n",
    "raw_dirs = [\"/Users/leeannramsay/WLData/MIMIC_IMC/RAW_DATA_ZIP\"]\n",
    "raw_dirs = [Path(raw_dir) for raw_dir in raw_dirs]\n",
    "\n",
    "# regular expression to select files\n",
    "file_regex = \"*.zip\"\n",
    "\n",
    "# panel information\n",
    "panel_file = \"/Users/leeannramsay/WLData/MIMIC_IMC/MIMIC_Panel.csv\"\n",
    "panel_channel_col = \"Metal Tag\"\n",
    "panel_keep_col = \"full\"\n",
    "panel_ilastik_col = \"ilastik\""
   ]
  },
  {
   "cell_type": "markdown",
   "id": "25e18243",
   "metadata": {},
   "source": [
    "## Specify the outputs\n",
    "\n",
    "You will need to specify a single folder where the output files of the pipeline are written out to (`work_dir`).\n",
    "Within the working directory, the following sub-folder will be created:\n",
    "\n",
    "* `acquisitions_dir`: storing individual acquisitions as `.ome.tiff` files, panoramas as `.png` and acquisition metadata (default `analysis/ometiff`)\n",
    "* `ilastik_dir`: storing multi-channel images in `.tiff` format for ilastik training. The channel order for each image is written out in `.csv` format (default `analysis/ilastik`). Following the CellProfiler pipelines, all files related to the ilastik segmentation approach will be stored here. \n",
    "* `crops_dir`: stores image crops for ilastik training after running the first CellProfiler pipeline (default `analysis/crops`)\n",
    "* `cellprofiler_input_dir`: all files needed for CellProfiler input (default `analysis/cpinp`)\n",
    "* `cellprofiler_output_dir`: all files written out by CellProfiler (default `analysis/cpout`)\n",
    "* `histocat_dir`: folders containing single-channel images for histoCAT upload (default `analysis/histocat`)\n",
    "\n",
    "Within the `cellprofiler_output_dir` three subfolders are created storing the final images:\n",
    "\n",
    "* `final_images_dir`: stores the hot pixel filtered multi-channel images containing selected channels (default `analysis/cpout/images`)\n",
    "* `final_masks_dir`: stores the final cell segmentation masks (default `analysis/cpout/masks`)\n",
    "* `final_probabilities_dir`: stores the downscaled pixel probabilities after ilastik classification (default `analysis/cpout/probabilities`)"
   ]
  },
  {
   "cell_type": "code",
   "execution_count": 11,
   "id": "281ad642",
   "metadata": {},
   "outputs": [],
   "source": [
    "# working directory storing all outputs\n",
    "work_dir = \"/Users/leeannramsay/WLData/MIMIC_IMC/analysis\"\n",
    "work_dir = Path(work_dir)\n",
    "work_dir.mkdir(exist_ok=True)\n",
    "\n",
    "# general output directories\n",
    "acquisitions_dir = work_dir / \"ometiff\"\n",
    "ilastik_dir = work_dir / \"ilastik\"\n",
    "crops_dir = work_dir / \"crops\"\n",
    "cellprofiler_input_dir = work_dir / \"cpinp\"\n",
    "cellprofiler_output_dir = work_dir / \"cpout\"\n",
    "histocat_dir = work_dir / \"histocat\"\n",
    "\n",
    "# Final output directories\n",
    "final_images_dir = cellprofiler_output_dir / \"images\"\n",
    "final_masks_dir = cellprofiler_output_dir / \"masks\"\n",
    "final_probabilities_dir = cellprofiler_output_dir / \"probabilities\""
   ]
  },
  {
   "cell_type": "markdown",
   "id": "0c57361d",
   "metadata": {},
   "source": [
    "The specified folder will now be created."
   ]
  },
  {
   "cell_type": "code",
   "execution_count": 12,
   "id": "0ac63953",
   "metadata": {},
   "outputs": [],
   "source": [
    "acquisitions_dir.mkdir(exist_ok=True)\n",
    "crops_dir.mkdir(exist_ok=True)\n",
    "ilastik_dir.mkdir(exist_ok=True)\n",
    "cellprofiler_input_dir.mkdir(exist_ok=True)\n",
    "cellprofiler_output_dir.mkdir(exist_ok=True)\n",
    "histocat_dir.mkdir(exist_ok=True)\n",
    "\n",
    "final_images_dir.mkdir(exist_ok=True)\n",
    "final_masks_dir.mkdir(exist_ok=True)\n",
    "final_probabilities_dir.mkdir(exist_ok=True)"
   ]
  },
  {
   "cell_type": "markdown",
   "id": "c72ccf9e-5bac-456a-bd5a-3ac2b3009f9e",
   "metadata": {},
   "source": [
    "\n",
    "## Convert zipped IMC acquisitions to input format\n",
    "\n",
    "This script works with zipped IMC acquisitions: Each acquisition session = (1 mcd file) should be zipped in a folder containing:\n",
    "\n",
    "* The .mcd file\n",
    "* All associated .txt file generated during the acquisition of this .mcd file -> Don't change any of the filenames!!\n",
    "\n",
    "Convert mcd containing folders into imc zip folders\n"
   ]
  },
  {
   "cell_type": "code",
   "execution_count": null,
   "id": "b7cdd92b-d9d2-4bf8-afc8-ece4b583e28d",
   "metadata": {},
   "outputs": [],
   "source": [
    "# %%time\n",
    "# failed_images = list()\n",
    "# re_fn = re.compile(file_regex)\n",
    "# folders = os.walk(raw_dirs)\n",
    "\n",
    "# for fol in folders:\n",
    "#     for fn in listdir_nohidden(fol):\n",
    "#         if re_fn.match(fn):\n",
    "#             fn_full = os.path.join(fol, fn)\n",
    "#             print(fn_full)\n",
    "#             try:\n",
    "#                 convertfolder2imcfolder.convert_folder2imcfolder(fn_full, out_folder=folder_ome,\n",
    "#                                                                    dozip=False)\n",
    "#             except:\n",
    "#                 logging.exception('Error in {}'.format(fn_full))"
   ]
  },
  {
   "cell_type": "markdown",
   "id": "7b80dc4b",
   "metadata": {},
   "source": [
    "## Convert `.mcd` files to `.ome.tiff` files\n",
    "\n",
    "In the first step, the `.zip` archives containing `.mcd` files are converted to folders, which contain `.ome.tiff` files, channel metadata files, panoramas and slide overviews. The `.ome.tiff` files can be read in by commercial and open-source software such as `ImageJ` using the BioFormats importer. The `.csv` files contain the order of the channels as well as the antibody names. The `_pano.png` contain the acquired panoramas; the `_slide.png` contains the slide overview. The `_schema.xml` contains metadata regarding the acquisition session.  \n",
    "At this stage, only `.zip` files specified by `file_regex` will be processed.\n",
    "\n",
    "In the following chunk, individual acquisition metadata are written out as `acquisition_metadata.csv` file in the `cellprofiler_output_dir` folder. "
   ]
  },
  {
   "cell_type": "code",
   "execution_count": 35,
   "id": "1169391e",
   "metadata": {},
   "outputs": [],
   "source": [
    "temp_dirs: List[TemporaryDirectory] = []\n",
    "\n",
    "try:\n",
    "    for raw_dir in raw_dirs:\n",
    "        zip_files = list(raw_dir.rglob(file_regex))\n",
    "        if len(zip_files) > 0:\n",
    "            temp_dir = TemporaryDirectory()\n",
    "            temp_dirs.append(temp_dir)\n",
    "            for zip_file in sorted(zip_files):\n",
    "                imcsegpipe.extract_zip_file(zip_file, temp_dir.name)\n",
    "    acquisition_metadatas = []\n",
    "    for raw_dir in raw_dirs + [Path(temp_dir.name) for temp_dir in temp_dirs]:\n",
    "        mcd_files = list(raw_dir.rglob(\"*.mcd\"))\n",
    "        if len(mcd_files) > 0:\n",
    "            txt_files = list(raw_dir.rglob(\"*.txt\"))\n",
    "            matched_txt_files = imcsegpipe.match_txt_files(mcd_files, txt_files)\n",
    "            for mcd_file in mcd_files:\n",
    "                acquisition_metadata = imcsegpipe.extract_mcd_file(\n",
    "                    mcd_file,\n",
    "                    acquisitions_dir / mcd_file.stem,\n",
    "                    txt_files=matched_txt_files[mcd_file],\n",
    "                )\n",
    "                acquisition_metadatas.append(acquisition_metadata)\n",
    "    acquisition_metadata = pd.concat(acquisition_metadatas, copy=False)\n",
    "    acquisition_metadata.to_csv(cellprofiler_input_dir / \"acquisition_metadata.csv\")\n",
    "finally:\n",
    "    for temp_dir in temp_dirs:\n",
    "        temp_dir.cleanup()\n",
    "    del temp_dirs"
   ]
  },
  {
   "cell_type": "markdown",
   "id": "a17734dd-4681-482f-ae1e-cdb3c8eb18bf",
   "metadata": {},
   "source": [
    "Here, a copy of the panel file is transferred to the `cellprofiler_output_dir`. "
   ]
  },
  {
   "cell_type": "code",
   "execution_count": 36,
   "id": "ce4a4040",
   "metadata": {},
   "outputs": [
    {
     "data": {
      "text/plain": [
       "PosixPath('/Users/leeannramsay/WLData/MIMIC_IMC/analysis/cpout/panel.csv')"
      ]
     },
     "execution_count": 36,
     "metadata": {},
     "output_type": "execute_result"
    }
   ],
   "source": [
    "shutil.copy2(panel_file, cellprofiler_output_dir / \"panel.csv\")"
   ]
  },
  {
   "cell_type": "markdown",
   "id": "1a304e00",
   "metadata": {},
   "source": [
    "## Convert `.ome.tiff` files to `histoCAT` compatible format\n",
    "\n",
    "In the next step, we will convert the generated `.ome.tiff` files to a format that [histoCAT](https://bodenmillergroup.github.io/histoCAT/) can read.\n",
    "For each acquistion (each `.ome.tiff` file), the `export_to_histocat` function call produces one folder that contains single channel tiff files. All channels contained in the `.ome.tiff` files are written out."
   ]
  },
  {
   "cell_type": "code",
   "execution_count": 38,
   "id": "2b7387c9-1092-4ab7-a577-e524a4737ae7",
   "metadata": {},
   "outputs": [
    {
     "name": "stdout",
     "output_type": "stream",
     "text": [
      "/Users/leeannramsay/WLData/MIMIC_IMC/analysis/ometiff\n"
     ]
    }
   ],
   "source": [
    "print(acquisitions_dir)"
   ]
  },
  {
   "cell_type": "code",
   "execution_count": 37,
   "id": "0dc3d319",
   "metadata": {},
   "outputs": [
    {
     "ename": "TypeError",
     "evalue": "expected string or bytes-like object",
     "output_type": "error",
     "traceback": [
      "\u001b[0;31m---------------------------------------------------------------------------\u001b[0m",
      "\u001b[0;31mTypeError\u001b[0m                                 Traceback (most recent call last)",
      "Cell \u001b[0;32mIn [37], line 3\u001b[0m\n\u001b[1;32m      1\u001b[0m \u001b[38;5;28;01mfor\u001b[39;00m acquisition_dir \u001b[38;5;129;01min\u001b[39;00m acquisitions_dir\u001b[38;5;241m.\u001b[39mglob(\u001b[38;5;124m\"\u001b[39m\u001b[38;5;124m*\u001b[39m\u001b[38;5;124m\"\u001b[39m):\n\u001b[1;32m      2\u001b[0m     \u001b[38;5;28;01mif\u001b[39;00m acquisition_dir\u001b[38;5;241m.\u001b[39mis_dir():\n\u001b[0;32m----> 3\u001b[0m         imcsegpipe\u001b[38;5;241m.\u001b[39mexport_to_histocat(acquisition_dir, histocat_dir)\n",
      "File \u001b[0;32m~/GITHUB/MIMIC_CyTOF/ImcSegmentationPipeline/scripts/../src/imcsegpipe/_imcsegpipe.py:176\u001b[0m, in \u001b[0;36mexport_to_histocat\u001b[0;34m(acquisition_dir, histocat_dir, mask_dir)\u001b[0m\n\u001b[1;32m    174\u001b[0m \u001b[38;5;28;01mfor\u001b[39;00m channel_index, row \u001b[38;5;129;01min\u001b[39;00m acquisition_channels\u001b[38;5;241m.\u001b[39miterrows():\n\u001b[1;32m    175\u001b[0m     acquisition_channel_img: np\u001b[38;5;241m.\u001b[39mndarray \u001b[38;5;241m=\u001b[39m acquisition_img[channel_index]\n\u001b[0;32m--> 176\u001b[0m     channel_label \u001b[38;5;241m=\u001b[39m \u001b[43mre\u001b[49m\u001b[38;5;241;43m.\u001b[39;49m\u001b[43msub\u001b[49m\u001b[43m(\u001b[49m\u001b[38;5;124;43m\"\u001b[39;49m\u001b[38;5;124;43m[^a-zA-Z0-9()]\u001b[39;49m\u001b[38;5;124;43m\"\u001b[39;49m\u001b[43m,\u001b[49m\u001b[43m \u001b[49m\u001b[38;5;124;43m\"\u001b[39;49m\u001b[38;5;124;43m-\u001b[39;49m\u001b[38;5;124;43m\"\u001b[39;49m\u001b[43m,\u001b[49m\u001b[43m \u001b[49m\u001b[43mrow\u001b[49m\u001b[43m[\u001b[49m\u001b[38;5;124;43m\"\u001b[39;49m\u001b[38;5;124;43mchannel_label\u001b[39;49m\u001b[38;5;124;43m\"\u001b[39;49m\u001b[43m]\u001b[49m\u001b[43m)\u001b[49m\n\u001b[1;32m    177\u001b[0m     channel_name \u001b[38;5;241m=\u001b[39m row[\u001b[38;5;124m\"\u001b[39m\u001b[38;5;124mchannel_name\u001b[39m\u001b[38;5;124m\"\u001b[39m]\n\u001b[1;32m    178\u001b[0m     tifffile\u001b[38;5;241m.\u001b[39mimwrite(\n\u001b[1;32m    179\u001b[0m         histocat_img_dir \u001b[38;5;241m/\u001b[39m \u001b[38;5;124mf\u001b[39m\u001b[38;5;124m\"\u001b[39m\u001b[38;5;132;01m{\u001b[39;00mchannel_label\u001b[38;5;132;01m}\u001b[39;00m\u001b[38;5;124m_\u001b[39m\u001b[38;5;132;01m{\u001b[39;00mchannel_name\u001b[38;5;132;01m}\u001b[39;00m\u001b[38;5;124m.tiff\u001b[39m\u001b[38;5;124m\"\u001b[39m,\n\u001b[1;32m    180\u001b[0m         data\u001b[38;5;241m=\u001b[39macquisition_channel_img,\n\u001b[1;32m    181\u001b[0m         imagej\u001b[38;5;241m=\u001b[39m\u001b[38;5;28;01mTrue\u001b[39;00m,\n\u001b[1;32m    182\u001b[0m     )\n",
      "File \u001b[0;32m~/opt/anaconda3/envs/imcsegpipe/lib/python3.9/re.py:210\u001b[0m, in \u001b[0;36msub\u001b[0;34m(pattern, repl, string, count, flags)\u001b[0m\n\u001b[1;32m    203\u001b[0m \u001b[38;5;28;01mdef\u001b[39;00m \u001b[38;5;21msub\u001b[39m(pattern, repl, string, count\u001b[38;5;241m=\u001b[39m\u001b[38;5;241m0\u001b[39m, flags\u001b[38;5;241m=\u001b[39m\u001b[38;5;241m0\u001b[39m):\n\u001b[1;32m    204\u001b[0m     \u001b[38;5;124;03m\"\"\"Return the string obtained by replacing the leftmost\u001b[39;00m\n\u001b[1;32m    205\u001b[0m \u001b[38;5;124;03m    non-overlapping occurrences of the pattern in string by the\u001b[39;00m\n\u001b[1;32m    206\u001b[0m \u001b[38;5;124;03m    replacement repl.  repl can be either a string or a callable;\u001b[39;00m\n\u001b[1;32m    207\u001b[0m \u001b[38;5;124;03m    if a string, backslash escapes in it are processed.  If it is\u001b[39;00m\n\u001b[1;32m    208\u001b[0m \u001b[38;5;124;03m    a callable, it's passed the Match object and must return\u001b[39;00m\n\u001b[1;32m    209\u001b[0m \u001b[38;5;124;03m    a replacement string to be used.\"\"\"\u001b[39;00m\n\u001b[0;32m--> 210\u001b[0m     \u001b[38;5;28;01mreturn\u001b[39;00m \u001b[43m_compile\u001b[49m\u001b[43m(\u001b[49m\u001b[43mpattern\u001b[49m\u001b[43m,\u001b[49m\u001b[43m \u001b[49m\u001b[43mflags\u001b[49m\u001b[43m)\u001b[49m\u001b[38;5;241;43m.\u001b[39;49m\u001b[43msub\u001b[49m\u001b[43m(\u001b[49m\u001b[43mrepl\u001b[49m\u001b[43m,\u001b[49m\u001b[43m \u001b[49m\u001b[43mstring\u001b[49m\u001b[43m,\u001b[49m\u001b[43m \u001b[49m\u001b[43mcount\u001b[49m\u001b[43m)\u001b[49m\n",
      "\u001b[0;31mTypeError\u001b[0m: expected string or bytes-like object"
     ]
    }
   ],
   "source": [
    "for acquisition_dir in acquisitions_dir.glob(\"*\"):\n",
    "    if acquisition_dir.is_dir():\n",
    "        imcsegpipe.export_to_histocat(acquisition_dir, histocat_dir)"
   ]
  },
  {
   "cell_type": "markdown",
   "id": "78e3c843",
   "metadata": {},
   "source": [
    "## Generate image stacks for downstream analyses\n",
    "\n",
    "Next, we will generate two stacks of multi-channel `.tiff` images:\n",
    "\n",
    "**1. Full stack:** The full stack contains all channels specified by the \"1\" entries in the `panel_keep_col` column of the panel file. This stack will be later used to measure cell-specific expression features of the selected channels.\n",
    "\n",
    "**2. Ilastik stack:** The ilastik stack contains all channels specified by the \"1\" entries in the `panel_ilastik_col` column of the panel file. This stack will be used to perform the ilastik training to generate cell, cytoplasm and background probability masks (see [Ilastik training](https://bodenmillergroup.github.io/ImcSegmentationPipeline/ilastik.html)).\n",
    "\n",
    "**Of note:** Both image stacks are now by default hot pixel filtered (see below). To write out the raw image data without filtering set `hpf=None`.\n",
    "\n",
    "The `create_analysis_stacks` function takes several arguments:\n",
    "\n",
    "* `acquisition_dir`: specifies the folder containing the `.ome.tiff` files.  \n",
    "* `analysis_dir`: specifies the folder where the `.tiff` stacks should be stored.  \n",
    "* `analysis_channels`: specifies the channel names used for the specific image stack.  \n",
    "* `suffix`: the suffix to be added at the end of the file name.\n",
    "* `hpf`: single number indicating the threshold for hot pixel filtering (see below). Setting `hpf=None` disables hot pixel filtering. \n",
    "\n",
    "**Hot pixel filtering:** Each pixel intensity is compared against the maximum intensity of the 3x3 neighboring pixels. If the difference is larger than `hpf`, the pixel intensity is clipped to the maximum intensity in the 3x3 neighborhood. "
   ]
  },
  {
   "cell_type": "code",
   "execution_count": 39,
   "id": "320202b6",
   "metadata": {},
   "outputs": [],
   "source": [
    "panel: pd.DataFrame = pd.read_csv(panel_file)\n",
    "\n",
    "for acquisition_dir in acquisitions_dir.glob(\"*\"):\n",
    "    if acquisition_dir.is_dir():\n",
    "        # Write full stack\n",
    "        imcsegpipe.create_analysis_stacks(\n",
    "            acquisition_dir=acquisition_dir,\n",
    "            analysis_dir=final_images_dir,\n",
    "            analysis_channels=sort_channels_by_mass(\n",
    "                panel.loc[panel[panel_keep_col] == 1, panel_channel_col].tolist()\n",
    "            ),\n",
    "            suffix=\"_full\",\n",
    "            hpf=50.0,\n",
    "        )\n",
    "        # Write ilastik stack\n",
    "        imcsegpipe.create_analysis_stacks(\n",
    "            acquisition_dir=acquisition_dir,\n",
    "            analysis_dir=ilastik_dir,\n",
    "            analysis_channels=sort_channels_by_mass(\n",
    "                panel.loc[panel[panel_ilastik_col] == 1, panel_channel_col].tolist()\n",
    "            ),\n",
    "            suffix=\"_ilastik\",\n",
    "            hpf=50.0,\n",
    "        )"
   ]
  },
  {
   "cell_type": "markdown",
   "id": "5ab99527",
   "metadata": {},
   "source": [
    "## Export additional metadata\n",
    "\n",
    "Finally, we will copy a file that contains the correct order of channels for the exported full stacks to the `cellprofiler_input_dir`."
   ]
  },
  {
   "cell_type": "code",
   "execution_count": 40,
   "id": "ece67368",
   "metadata": {},
   "outputs": [
    {
     "data": {
      "text/plain": [
       "PosixPath('/Users/leeannramsay/WLData/MIMIC_IMC/analysis/cpinp/full_channelmeta.csv')"
      ]
     },
     "execution_count": 40,
     "metadata": {},
     "output_type": "execute_result"
    }
   ],
   "source": [
    "first_channel_order_file = next(final_images_dir.glob(\"*_full.csv\"))\n",
    "shutil.copy2(first_channel_order_file, cellprofiler_input_dir / \"full_channelmeta.csv\")"
   ]
  },
  {
   "cell_type": "markdown",
   "id": "0b65ffd8",
   "metadata": {},
   "source": [
    "We will also generate channel metadata for the probability stack (see [Ilastik training](https://bodenmillergroup.github.io/ImcSegmentationPipeline/ilastik.html))."
   ]
  },
  {
   "cell_type": "code",
   "execution_count": 41,
   "id": "d7a25f2b",
   "metadata": {},
   "outputs": [],
   "source": [
    "probab_meta = [\"CellCenter\", \"CellBorder\", \"Background\"]\n",
    "with open(cellprofiler_input_dir / \"probab_channelmeta_manual.csv\", \"w\") as f:\n",
    "    f.write(\"\\n\".join(probab_meta))"
   ]
  },
  {
   "cell_type": "markdown",
   "id": "f5d4cb54",
   "metadata": {},
   "source": [
    "This concludes the pre-processing of the raw image files. In [the next step](https://bodenmillergroup.github.io/ImcSegmentationPipeline/ilastik.html), we will prepare the images for ilastik pixel classification."
   ]
  },
  {
   "cell_type": "markdown",
   "id": "79e364ec",
   "metadata": {},
   "source": [
    "## Generate the histocat folder with masks (optional)\n",
    "\n",
    "This function can be used to convert the `.ome.tiff` files together with the mask files, which are generated in the [segmentation step](https://bodenmillergroup.github.io/ImcSegmentationPipeline/segmentation.html) to a format that is recognized by the `histoCAT` software. To use the function you will need to remove `#` from the following code chunk."
   ]
  },
  {
   "cell_type": "code",
   "execution_count": 18,
   "id": "83673a33",
   "metadata": {},
   "outputs": [],
   "source": [
    "#for acquisition_dir in acquisitions_dir.glob(\"*\"):\n",
    "#    if acquisition_dir.is_dir():\n",
    "#        imcsegpipe.export_to_histocat(\n",
    "#            acquisition_dir, histocat_dir, mask_dir=final_masks_dir\n",
    "#        )"
   ]
  },
  {
   "cell_type": "code",
   "execution_count": 11,
   "id": "e6cb34d5",
   "metadata": {},
   "outputs": [
    {
     "name": "stdout",
     "output_type": "stream",
     "text": [
      "# packages in environment at /Users/nils/opt/anaconda3/envs/imcsegpipe:\n",
      "#\n",
      "# Name                    Version                   Build  Channel\n",
      "anyio                     3.5.0            py39h6e9494a_0    conda-forge\n",
      "appnope                   0.1.3              pyhd8ed1ab_0    conda-forge\n",
      "argon2-cffi               21.3.0             pyhd8ed1ab_0    conda-forge\n",
      "argon2-cffi-bindings      21.2.0           py39h63b48b0_2    conda-forge\n",
      "asttokens                 2.0.5              pyhd8ed1ab_0    conda-forge\n",
      "attrs                     21.4.0             pyhd8ed1ab_0    conda-forge\n",
      "babel                     2.9.1              pyh44b312d_0    conda-forge\n",
      "backcall                  0.2.0              pyh9f0ad1d_0    conda-forge\n",
      "backports                 1.0                        py_2    conda-forge\n",
      "backports.functools_lru_cache 1.6.4              pyhd8ed1ab_0    conda-forge\n",
      "beautifulsoup4            4.11.1             pyha770c72_0    conda-forge\n",
      "bleach                    5.0.0              pyhd8ed1ab_0    conda-forge\n",
      "brotlipy                  0.7.0           py39h63b48b0_1004    conda-forge\n",
      "bzip2                     1.0.8                h0d85af4_4    conda-forge\n",
      "ca-certificates           2021.10.8            h033912b_0    conda-forge\n",
      "certifi                   2021.10.8        py39h6e9494a_2    conda-forge\n",
      "cffi                      1.15.0           py39he338e87_0    conda-forge\n",
      "charset-normalizer        2.0.12             pyhd8ed1ab_0    conda-forge\n",
      "cryptography              36.0.2           py39h1644bb1_1    conda-forge\n",
      "debugpy                   1.6.0            py39hfd1d529_0    conda-forge\n",
      "decorator                 5.1.1              pyhd8ed1ab_0    conda-forge\n",
      "defusedxml                0.7.1              pyhd8ed1ab_0    conda-forge\n",
      "entrypoints               0.4                pyhd8ed1ab_0    conda-forge\n",
      "executing                 0.8.3              pyhd8ed1ab_0    conda-forge\n",
      "flit-core                 3.7.1              pyhd8ed1ab_0    conda-forge\n",
      "idna                      3.3                pyhd8ed1ab_0    conda-forge\n",
      "imageio                   2.16.2                   pypi_0    pypi\n",
      "imcsegpipe                1.0.0                     dev_0    <develop>\n",
      "importlib-metadata        4.11.3           py39h6e9494a_1    conda-forge\n",
      "importlib_resources       5.6.0              pyhd8ed1ab_1    conda-forge\n",
      "ipykernel                 6.13.0           py39h71a6800_0    conda-forge\n",
      "ipython                   8.2.0            py39h6e9494a_0    conda-forge\n",
      "ipython_genutils          0.2.0                      py_1    conda-forge\n",
      "jedi                      0.18.1           py39h6e9494a_1    conda-forge\n",
      "jinja2                    3.1.1              pyhd8ed1ab_0    conda-forge\n",
      "json5                     0.9.5              pyh9f0ad1d_0    conda-forge\n",
      "jsonschema                4.4.0              pyhd8ed1ab_0    conda-forge\n",
      "jupyter_client            7.2.2              pyhd8ed1ab_1    conda-forge\n",
      "jupyter_core              4.9.2            py39h6e9494a_0    conda-forge\n",
      "jupyter_server            1.16.0             pyhd8ed1ab_1    conda-forge\n",
      "jupyterlab                3.3.3              pyhd8ed1ab_0    conda-forge\n",
      "jupyterlab_pygments       0.2.0              pyhd8ed1ab_0    conda-forge\n",
      "jupyterlab_server         2.12.0             pyhd8ed1ab_0    conda-forge\n",
      "jupytext                  1.13.8             pyh4b9bcc7_0    conda-forge\n",
      "libcxx                    13.0.1               hc203e6f_0    conda-forge\n",
      "libffi                    3.4.2                h0d85af4_5    conda-forge\n",
      "libsodium                 1.0.18               hbcb3906_1    conda-forge\n",
      "libzlib                   1.2.11            h6c3fc93_1014    conda-forge\n",
      "markdown-it-py            2.0.1              pyhd8ed1ab_0    conda-forge\n",
      "markupsafe                2.1.1            py39h63b48b0_1    conda-forge\n",
      "matplotlib-inline         0.1.3              pyhd8ed1ab_0    conda-forge\n",
      "mdit-py-plugins           0.3.0              pyhd8ed1ab_0    conda-forge\n",
      "mdurl                     0.1.0              pyhd8ed1ab_0    conda-forge\n",
      "mistune                   0.8.4           py39h89e85a6_1005    conda-forge\n",
      "nbclassic                 0.3.7              pyhd8ed1ab_0    conda-forge\n",
      "nbclient                  0.5.13             pyhd8ed1ab_0    conda-forge\n",
      "nbconvert                 6.5.0              pyhd8ed1ab_0    conda-forge\n",
      "nbconvert-core            6.5.0              pyhd8ed1ab_0    conda-forge\n",
      "nbconvert-pandoc          6.5.0              pyhd8ed1ab_0    conda-forge\n",
      "nbformat                  5.3.0              pyhd8ed1ab_0    conda-forge\n",
      "ncurses                   6.3                  h96cf925_1    conda-forge\n",
      "nest-asyncio              1.5.5              pyhd8ed1ab_0    conda-forge\n",
      "notebook                  6.4.10             pyha770c72_0    conda-forge\n",
      "notebook-shim             0.1.0              pyhd8ed1ab_0    conda-forge\n",
      "numpy                     1.22.3                   pypi_0    pypi\n",
      "openssl                   1.1.1n               h6c3fc93_0    conda-forge\n",
      "packaging                 21.3               pyhd8ed1ab_0    conda-forge\n",
      "pandas                    1.4.2                    pypi_0    pypi\n",
      "pandoc                    2.18                 h694c41f_0    conda-forge\n",
      "pandocfilters             1.5.0              pyhd8ed1ab_0    conda-forge\n",
      "parso                     0.8.3              pyhd8ed1ab_0    conda-forge\n",
      "pexpect                   4.8.0              pyh9f0ad1d_2    conda-forge\n",
      "pickleshare               0.7.5                   py_1003    conda-forge\n",
      "pillow                    9.1.0                    pypi_0    pypi\n",
      "pip                       22.0.4             pyhd8ed1ab_0    conda-forge\n",
      "prometheus_client         0.14.1             pyhd8ed1ab_0    conda-forge\n",
      "prompt-toolkit            3.0.29             pyha770c72_0    conda-forge\n",
      "psutil                    5.9.0            py39h63b48b0_1    conda-forge\n",
      "ptyprocess                0.7.0              pyhd3deb0d_0    conda-forge\n",
      "pure_eval                 0.2.2              pyhd8ed1ab_0    conda-forge\n",
      "pycparser                 2.21               pyhd8ed1ab_0    conda-forge\n",
      "pygments                  2.11.2             pyhd8ed1ab_0    conda-forge\n",
      "pyopenssl                 22.0.0             pyhd8ed1ab_0    conda-forge\n",
      "pyparsing                 3.0.8              pyhd8ed1ab_0    conda-forge\n",
      "pyrsistent                0.18.1           py39h63b48b0_1    conda-forge\n",
      "pysocks                   1.7.1            py39h6e9494a_5    conda-forge\n",
      "python                    3.9.12          h8b4d769_1_cpython    conda-forge\n",
      "python-dateutil           2.8.2              pyhd8ed1ab_0    conda-forge\n",
      "python-fastjsonschema     2.15.3             pyhd8ed1ab_0    conda-forge\n",
      "python_abi                3.9                      2_cp39    conda-forge\n",
      "pytz                      2022.1             pyhd8ed1ab_0    conda-forge\n",
      "pyyaml                    6.0              py39h63b48b0_4    conda-forge\n",
      "pyzmq                     22.3.0           py39hc2dc7ec_2    conda-forge\n",
      "readimc                   0.6.1                    pypi_0    pypi\n",
      "readline                  8.1                  h05e3726_0    conda-forge\n",
      "requests                  2.27.1             pyhd8ed1ab_0    conda-forge\n",
      "scipy                     1.8.0                    pypi_0    pypi\n",
      "send2trash                1.8.0              pyhd8ed1ab_0    conda-forge\n",
      "setuptools                62.1.0           py39h6e9494a_0    conda-forge\n",
      "six                       1.16.0             pyh6c4a22f_0    conda-forge\n",
      "sniffio                   1.2.0            py39h6e9494a_3    conda-forge\n",
      "soupsieve                 2.3.1              pyhd8ed1ab_0    conda-forge\n",
      "sqlite                    3.38.2               hb516253_0    conda-forge\n",
      "stack_data                0.2.0              pyhd8ed1ab_0    conda-forge\n",
      "terminado                 0.13.3           py39h6e9494a_1    conda-forge\n",
      "tifffile                  2022.4.8                 pypi_0    pypi\n",
      "tinycss2                  1.1.1              pyhd8ed1ab_0    conda-forge\n",
      "tk                        8.6.12               h5dbffcc_0    conda-forge\n",
      "toml                      0.10.2             pyhd8ed1ab_0    conda-forge\n",
      "tornado                   6.1              py39h63b48b0_3    conda-forge\n",
      "traitlets                 5.1.1              pyhd8ed1ab_0    conda-forge\n",
      "typing_extensions         4.1.1              pyha770c72_0    conda-forge\n",
      "tzdata                    2022a                h191b570_0    conda-forge\n",
      "urllib3                   1.26.9             pyhd8ed1ab_0    conda-forge\n",
      "wcwidth                   0.2.5              pyh9f0ad1d_2    conda-forge\n",
      "webencodings              0.5.1                      py_1    conda-forge\n",
      "websocket-client          1.3.2              pyhd8ed1ab_0    conda-forge\n",
      "wheel                     0.37.1             pyhd8ed1ab_0    conda-forge\n",
      "xtiff                     0.7.7                    pypi_0    pypi\n",
      "xz                        5.2.5                haf1e3a3_1    conda-forge\n",
      "yaml                      0.2.5                h0d85af4_2    conda-forge\n",
      "zeromq                    4.3.4                he49afe7_1    conda-forge\n",
      "zipp                      3.8.0              pyhd8ed1ab_0    conda-forge\n",
      "zlib                      1.2.11            h6c3fc93_1014    conda-forge\n"
     ]
    }
   ],
   "source": [
    "!conda list"
   ]
  },
  {
   "cell_type": "code",
   "execution_count": null,
   "id": "688e2f34-8852-49b1-9c67-5e711414f7bf",
   "metadata": {},
   "outputs": [],
   "source": []
  }
 ],
 "metadata": {
  "jupytext": {
   "cell_metadata_filter": "-all",
   "formats": "auto:percent,ipynb",
   "notebook_metadata_filter": "-all"
  },
  "kernelspec": {
   "display_name": "Python 3 (ipykernel)",
   "language": "python",
   "name": "python3"
  },
  "language_info": {
   "codemirror_mode": {
    "name": "ipython",
    "version": 3
   },
   "file_extension": ".py",
   "mimetype": "text/x-python",
   "name": "python",
   "nbconvert_exporter": "python",
   "pygments_lexer": "ipython3",
   "version": "3.9.13"
  }
 },
 "nbformat": 4,
 "nbformat_minor": 5
}
